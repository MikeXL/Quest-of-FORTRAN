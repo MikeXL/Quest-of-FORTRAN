{
 "cells": [
  {
   "cell_type": "markdown",
   "metadata": {},
   "source": [
    "First download the package\n",
    "```\n",
    "      git clone https://github.com/ZedThree/jupyter-fortran-kernel.git\n",
    "```\n",
    "then modify the _kernel.py_ to use _f77_ instead of _gfortran -std=f2008_, ya could keep it,    \n",
    "I'm the old foul who cannot figure out and live with thy *modern* 2008.    \n",
    "Then \n",
    "```\n",
    "      python setup.py install --user\n",
    "      cd jupyter-fortran-kernel ; jupyter-kernelspec install fortran_spec/ --user\n",
    "```\n",
    "You should be able to validate the kernel been installed by \n",
    "```\n",
    "      jupyter kernelspec list\n",
    "```"
   ]
  },
  {
   "cell_type": "markdown",
   "metadata": {},
   "source": [
    "### Hello World"
   ]
  },
  {
   "cell_type": "code",
   "execution_count": 1,
   "metadata": {},
   "outputs": [
    {
     "name": "stdout",
     "output_type": "stream",
     "text": [
      " CIRCLE OF LIFE\n"
     ]
    }
   ],
   "source": [
    "      PROGRAM CIRCLE_OF_LIFE\n",
    "        PRINT *, 'CIRCLE OF LIFE'\n",
    "      END"
   ]
  },
  {
   "cell_type": "markdown",
   "metadata": {},
   "source": [
    "### Simple addition and $ \\pi $ estimation"
   ]
  },
  {
   "cell_type": "code",
   "execution_count": 2,
   "metadata": {},
   "outputs": [
    {
     "name": "stdout",
     "output_type": "stream",
     "text": [
      " 1.1 + 2.2 =    3.30000019    \n",
      " PI =    3.14209604    \n"
     ]
    }
   ],
   "source": [
    "C23456789\n",
    "      program main\n",
    "         print *, \"1.1 + 2.2 = \", test_sum(1.1, 2.2)\n",
    "         print *, \"PI = \", pi_mc()\n",
    "      end\n",
    "\n",
    "      function test_sum(a, b)\n",
    "        real a, b\n",
    "        test_sum = a + b\n",
    "        return\n",
    "      end function test_sum\n",
    "\n",
    "C subroutine to return value \n",
    "C   in this case answer\n",
    "C subroutine is the method for writting function for R .Fortran\n",
    "C mind double precision is the one to go friendlier with R\n",
    "C\n",
    "      subroutine test_sum_r(a, b, answer)\n",
    "        double precision a, b, \n",
    "C show off of the line continuation\n",
    "C not really necessary\n",
    "C23456\n",
    "     +                       answer\n",
    "        answer = a + b\n",
    "      end subroutine test_sum_r\n",
    "\n",
    "C this sucks with gfortran\n",
    "C rand() is pseudo and obsolescent ? \n",
    "C and ya know why it cannot be called mc_pi\n",
    "C monte carlo estimate Pi\n",
    "      FUNCTION pi_mc()\n",
    "        do 10 i = 1,1000000\n",
    "          x = rand()\n",
    "          y = rand()\n",
    "          if(x**2 + y**2 .lt. 1) k=k+1\n",
    "10      continue\n",
    "        pi_mc = real(k) / 1000000 * 4\n",
    "      end function pi_mc\n"
   ]
  },
  {
   "cell_type": "code",
   "execution_count": null,
   "metadata": {},
   "outputs": [],
   "source": []
  }
 ],
 "metadata": {
  "kernelspec": {
   "display_name": "Fortran",
   "language": "Fortran",
   "name": "fortran_spec"
  },
  "language_info": {
   "file_extension": "f90",
   "mimetype": "text/plain",
   "name": "fortran"
  }
 },
 "nbformat": 4,
 "nbformat_minor": 4
}
